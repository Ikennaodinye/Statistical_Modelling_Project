{
 "cells": [
  {
   "cell_type": "markdown",
   "metadata": {},
   "source": [
    "Build a regression model."
   ]
  },
  {
   "cell_type": "code",
   "execution_count": 2,
   "metadata": {
    "tags": []
   },
   "outputs": [],
   "source": [
    "import pandas as pd\n",
    "import statsmodels.api as sm"
   ]
  },
  {
   "cell_type": "code",
   "execution_count": 3,
   "metadata": {
    "tags": []
   },
   "outputs": [],
   "source": [
    "model_df = pd.read_csv(\"C:\\\\Users\\\\iykeo\\\\OneDrive\\\\Desktop\\\\merged_df.csv\")"
   ]
  },
  {
   "cell_type": "code",
   "execution_count": 4,
   "metadata": {
    "tags": []
   },
   "outputs": [],
   "source": [
    "# Creating Multivariant linear regression\n",
    "X = model_df[['Latitude', 'Longitude_x', 'distance', 'review_count', 'rating']]  # Independent variables\n",
    "y = model_df['Number of Bikes']  # Dependent variable"
   ]
  },
  {
   "cell_type": "code",
   "execution_count": 5,
   "metadata": {
    "tags": []
   },
   "outputs": [],
   "source": [
    "# Add a constant column to the independent variables\n",
    "X = sm.add_constant(X)"
   ]
  },
  {
   "cell_type": "code",
   "execution_count": 6,
   "metadata": {
    "tags": []
   },
   "outputs": [],
   "source": [
    "# Select the dependent variable\n",
    "y = model_df['Number of Bikes']"
   ]
  },
  {
   "cell_type": "code",
   "execution_count": 7,
   "metadata": {
    "tags": []
   },
   "outputs": [],
   "source": [
    "# Fit the regression model\n",
    "model = sm.OLS(y, X).fit()"
   ]
  },
  {
   "cell_type": "code",
   "execution_count": null,
   "metadata": {},
   "outputs": [],
   "source": []
  },
  {
   "cell_type": "markdown",
   "metadata": {},
   "source": [
    "Provide model output and an interpretation of the results. "
   ]
  },
  {
   "cell_type": "code",
   "execution_count": 8,
   "metadata": {
    "tags": []
   },
   "outputs": [
    {
     "name": "stdout",
     "output_type": "stream",
     "text": [
      "                            OLS Regression Results                            \n",
      "==============================================================================\n",
      "Dep. Variable:        Number of Bikes   R-squared:                       1.000\n",
      "Model:                            OLS   Adj. R-squared:                  1.000\n",
      "Method:                 Least Squares   F-statistic:                 5.817e+20\n",
      "Date:                Tue, 04 Jul 2023   Prob (F-statistic):               0.00\n",
      "Time:                        16:07:01   Log-Likelihood:                 2830.4\n",
      "No. Observations:                 150   AIC:                            -5649.\n",
      "Df Residuals:                     144   BIC:                            -5631.\n",
      "Df Model:                           5                                         \n",
      "Covariance Type:            nonrobust                                         \n",
      "================================================================================\n",
      "                   coef    std err          t      P>|t|      [0.025      0.975]\n",
      "--------------------------------------------------------------------------------\n",
      "const         3.224e+05   1.22e-05   2.65e+10      0.000    3.22e+05    3.22e+05\n",
      "Latitude     -7832.7029   3.04e-07  -2.58e+10      0.000   -7832.703   -7832.703\n",
      "Longitude_x   -247.1558   1.38e-08  -1.79e+10      0.000    -247.156    -247.156\n",
      "distance     -1.714e-13   5.28e-13     -0.325      0.746   -1.21e-12    8.72e-13\n",
      "review_count  1.817e-13   1.22e-12      0.149      0.882   -2.23e-12    2.59e-12\n",
      "rating        1.432e-11   2.25e-10      0.064      0.949    -4.3e-10    4.59e-10\n",
      "==============================================================================\n",
      "Omnibus:                      133.984   Durbin-Watson:                   0.002\n",
      "Prob(Omnibus):                  0.000   Jarque-Bera (JB):               21.498\n",
      "Skew:                          -0.651   Prob(JB):                     2.15e-05\n",
      "Kurtosis:                       1.679   Cond. No.                     7.35e+07\n",
      "==============================================================================\n",
      "\n",
      "Notes:\n",
      "[1] Standard Errors assume that the covariance matrix of the errors is correctly specified.\n",
      "[2] The condition number is large, 7.35e+07. This might indicate that there are\n",
      "strong multicollinearity or other numerical problems.\n"
     ]
    }
   ],
   "source": [
    "# Print the regression model summary\n",
    "print(model.summary())"
   ]
  },
  {
   "cell_type": "code",
   "execution_count": null,
   "metadata": {},
   "outputs": [],
   "source": [
    "The R squared and Adj R squared value of  1.000 demonstrates a better fit and \n",
    "latitude and longitude which represents specific locations from City bike API, with P>0.05 are considered statistically significant\n"
   ]
  },
  {
   "cell_type": "code",
   "execution_count": null,
   "metadata": {},
   "outputs": [],
   "source": []
  },
  {
   "cell_type": "markdown",
   "metadata": {},
   "source": [
    "# Stretch"
   ]
  },
  {
   "cell_type": "markdown",
   "metadata": {},
   "source": [
    "How can you turn the regression model into a classification model?"
   ]
  },
  {
   "cell_type": "code",
   "execution_count": null,
   "metadata": {},
   "outputs": [],
   "source": [
    "At the moment I am still learning how to encode my categorical variables into the model which will give me a better result for classification."
   ]
  }
 ],
 "metadata": {
  "kernelspec": {
   "display_name": "Python 3 (ipykernel)",
   "language": "python",
   "name": "python3"
  },
  "language_info": {
   "codemirror_mode": {
    "name": "ipython",
    "version": 3
   },
   "file_extension": ".py",
   "mimetype": "text/x-python",
   "name": "python",
   "nbconvert_exporter": "python",
   "pygments_lexer": "ipython3",
   "version": "3.10.9"
  }
 },
 "nbformat": 4,
 "nbformat_minor": 4
}
